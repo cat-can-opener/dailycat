{
 "cells": [
  {
   "cell_type": "code",
   "execution_count": 3,
   "id": "96777232",
   "metadata": {},
   "outputs": [],
   "source": [
    "from bs4 import BeautifulSoup as bs\n",
    "from urllib.request import urlopen\n",
    "from urllib.parse import quote_plus\n",
    "import urllib\n",
    "\n",
    "baseUrl = 'https://search.naver.com/search.naver?where=image&sm=tab_jum&query='\n",
    "# plusUrl = input('검색어 입력: ')\n",
    "# crawl_num = int(input('크롤링할 갯수 입력(최대 50개): '))\n",
    "plusUrl = '고양이'\n",
    "crawl_num = 5\n",
    "\n",
    "url = baseUrl + quote_plus(plusUrl)\n",
    "# 한글 검색 자동 변환\n",
    "html = urlopen(url)\n",
    "# print(html.read().decode('utf-8'))\n",
    "soup = bs(html, \"html.parser\")\n"
   ]
  },
  {
   "cell_type": "code",
   "execution_count": 12,
   "id": "9b4312b7",
   "metadata": {
    "scrolled": true
   },
   "outputs": [
    {
     "data": {
      "text/plain": [
       "'https://search.naver.com/search.naver?where=image&sm=tab_jum&query=%EA%B3%A0%EC%96%91%EC%9D%B4'"
      ]
     },
     "execution_count": 12,
     "metadata": {},
     "output_type": "execute_result"
    }
   ],
   "source": [
    "url"
   ]
  },
  {
   "cell_type": "code",
   "execution_count": 15,
   "id": "9ec596e2",
   "metadata": {},
   "outputs": [],
   "source": [
    "query = '고양이'\n",
    "start, display = 1, 200\n",
    "url = f'https://s.search.naver.com/imagesearch/instant/search.naver?where=image&section=image&rev=31&res_fr=0&res_to=0&face=0&color=0&ccl=0&ac=0&aq=0&spq=1&query={query}&nx_search_query={query}&nx_and_query=&nx_sub_query=&nx_search_hlquery=&nx_search_fasquery=&datetype=0&startdate=0&enddate=0&json_type=6&nlu_query=&nqx_theme=%7B%22theme%22%3A%7B%22main%22%3A%7B%22name%22%3A%22people_ent%22%2C%22os%22%3A%2293959%22%2C%22pkid%22%3A%221%22%7D%7D%7D&start={start}&display={display}'\n"
   ]
  },
  {
   "cell_type": "code",
   "execution_count": 16,
   "id": "69bc7c9c",
   "metadata": {},
   "outputs": [
    {
     "data": {
      "text/plain": [
       "'https://s.search.naver.com/imagesearch/instant/search.naver?where=image&section=image&rev=31&res_fr=0&res_to=0&face=0&color=0&ccl=0&ac=0&aq=0&spq=1&query=고양이&nx_search_query=고양이&nx_and_query=&nx_sub_query=&nx_search_hlquery=&nx_search_fasquery=&datetype=0&startdate=0&enddate=0&json_type=6&nlu_query=&nqx_theme=%7B%22theme%22%3A%7B%22main%22%3A%7B%22name%22%3A%22people_ent%22%2C%22os%22%3A%2293959%22%2C%22pkid%22%3A%221%22%7D%7D%7D&start=1&display=200'"
      ]
     },
     "execution_count": 16,
     "metadata": {},
     "output_type": "execute_result"
    }
   ],
   "source": [
    "url"
   ]
  },
  {
   "cell_type": "code",
   "execution_count": null,
   "id": "8a1af9d4",
   "metadata": {},
   "outputs": [],
   "source": [
    "def fetch_naver_image_html(query, start=1, display=200):\n",
    "    url = f'https://s.search.naver.com/imagesearch/instant/search.naver?where=image&section=image&rev=31&res_fr=0&res_to=0&face=0&color=0&ccl=0&ac=0&aq=0&spq=1&query={query}&nx_search_query={query}&nx_and_query=&nx_sub_query=&nx_search_hlquery=&nx_search_fasquery=&datetype=0&startdate=0&enddate=0&json_type=6&nlu_query=&nqx_theme=%7B%22theme%22%3A%7B%22main%22%3A%7B%22name%22%3A%22people_ent%22%2C%22os%22%3A%2293959%22%2C%22pkid%22%3A%221%22%7D%7D%7D&start={start}&display={display}'\n",
    "    res = httpx.get(url)\n",
    "    # TODO: error handling\n",
    "    return res.text"
   ]
  },
  {
   "cell_type": "code",
   "execution_count": null,
   "id": "fb0307b6",
   "metadata": {},
   "outputs": [],
   "source": [
    "from bs4 import BeautifulSoup as bs\n",
    "from urllib.request import urlopen\n",
    "from urllib.parse import quote_plus\n",
    "import urllib\n",
    "\n",
    "baseUrl = 'https://search.naver.com/search.naver?where=image&sm=tab_jum&query='\n",
    "# plusUrl = input('검색어 입력: ')\n",
    "# crawl_num = int(input('크롤링할 갯수 입력(최대 50개): '))\n",
    "plusUrl = '고양이'\n",
    "crawl_num = 5\n",
    "\n",
    "url = baseUrl + quote_plus(plusUrl)\n",
    "# 한글 검색 자동 변환\n",
    "html = urlopen(url)\n",
    "# print(html.read().decode('utf-8'))\n",
    "soup = bs(html, \"html.parser\")\n",
    "\n",
    "img = soup.find_all(attrs={\"class\": \"_img\"})\n",
    "breakpoint()\n",
    "print(img)\n",
    "\n",
    "print(len(img))\n",
    "\n",
    "n = 1\n",
    "for i in img:\n",
    "    print(n)\n",
    "    imgUrl = i['data-source']\n",
    "    with urlopen(imgUrl) as f:\n",
    "        with open('./images/img' + str(n)+'.jpg', 'wb') as h:  # w - write b - binary\n",
    "            img = f.read()\n",
    "            h.write(img)\n",
    "    n += 1\n",
    "    if n > crawl_num:\n",
    "        break\n",
    "\n",
    "\n",
    "print('Image Crawling is done.')\n"
   ]
  }
 ],
 "metadata": {
  "kernelspec": {
   "display_name": "Python 3",
   "language": "python",
   "name": "python3"
  },
  "language_info": {
   "codemirror_mode": {
    "name": "ipython",
    "version": 3
   },
   "file_extension": ".py",
   "mimetype": "text/x-python",
   "name": "python",
   "nbconvert_exporter": "python",
   "pygments_lexer": "ipython3",
   "version": "3.9.0"
  }
 },
 "nbformat": 4,
 "nbformat_minor": 5
}
